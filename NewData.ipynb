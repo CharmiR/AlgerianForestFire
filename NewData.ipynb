{
  "nbformat": 4,
  "nbformat_minor": 0,
  "metadata": {
    "colab": {
      "provenance": []
    },
    "kernelspec": {
      "name": "python3",
      "display_name": "Python 3"
    },
    "language_info": {
      "name": "python"
    }
  },
  "cells": [
    {
      "cell_type": "code",
      "source": [
        "# Mount Google Drive to access files\n",
        "from google.colab import drive\n",
        "drive.mount('/content/drive')"
      ],
      "metadata": {
        "colab": {
          "base_uri": "https://localhost:8080/"
        },
        "id": "rypqPfvqQhYS",
        "outputId": "204326d3-bb5f-4f13-dc52-20041ca65975"
      },
      "execution_count": 1,
      "outputs": [
        {
          "output_type": "stream",
          "name": "stdout",
          "text": [
            "Drive already mounted at /content/drive; to attempt to forcibly remount, call drive.mount(\"/content/drive\", force_remount=True).\n"
          ]
        }
      ]
    },
    {
      "cell_type": "code",
      "source": [
        "import pandas as pd\n",
        "import numpy as np\n",
        "import pickle\n",
        "\n",
        "# Define the size of the dataset\n",
        "num_samples = 5\n",
        "\n",
        "# Generate random data\n",
        "Temperature = np.random.randint(20, 40, size=num_samples)\n",
        "RH = np.random.randint(50, 90, size=num_samples)\n",
        "Ws = np.random.randint(10, 30, size=num_samples)\n",
        "Rain = np.random.uniform(0, 15, size=num_samples)\n",
        "FFMC = np.random.uniform(40, 90, size=num_samples)\n",
        "DMC = np.random.uniform(1, 20, size=num_samples)\n",
        "DC = np.random.uniform(5, 50, size=num_samples)\n",
        "ISI = np.random.uniform(0, 5, size=num_samples)\n",
        "BUI = np.random.uniform(1, 20, size=num_samples)\n",
        "FWI = np.random.uniform(0, 5, size=num_samples)\n",
        "Region = np.random.randint(0, 2, size=num_samples)\n",
        "Classes_encoded = np.random.randint(0, 2, size=num_samples)\n",
        "\n",
        "# Create a DataFrame\n",
        "df = pd.DataFrame({\n",
        "    'Temperature': Temperature,\n",
        "    'RH': RH,\n",
        "    'Ws': Ws,\n",
        "    'Rain': Rain,\n",
        "    'FFMC': FFMC,\n",
        "    'DMC': DMC,\n",
        "    'DC': DC,\n",
        "    'ISI': ISI,\n",
        "    'BUI': BUI,\n",
        "    'Region': Region,\n",
        "    'Classes_encoded': Classes_encoded\n",
        "})\n",
        "\n",
        "df = df.astype(float)\n",
        "\n",
        "# Display the first few rows of the DataFrame\n",
        "print(df.head())"
      ],
      "metadata": {
        "colab": {
          "base_uri": "https://localhost:8080/"
        },
        "id": "0WdTuxRQQqsm",
        "outputId": "4a3dd8dd-2549-4ff3-af5e-fc01cbfd3969"
      },
      "execution_count": 2,
      "outputs": [
        {
          "output_type": "stream",
          "name": "stdout",
          "text": [
            "   Temperature    RH    Ws       Rain       FFMC        DMC         DC  \\\n",
            "0         20.0  80.0  22.0   8.989956  42.594862   2.677349  23.829319   \n",
            "1         28.0  77.0  20.0  11.027555  65.934820  18.787663  29.598087   \n",
            "2         28.0  54.0  11.0  10.077155  78.439487   2.835618  42.499112   \n",
            "3         27.0  80.0  22.0   3.963300  86.745656  10.026407  44.689727   \n",
            "4         24.0  51.0  23.0   9.223850  77.343086  15.244723  24.915693   \n",
            "\n",
            "        ISI        BUI  Region  Classes_encoded  \n",
            "0  0.565594   8.006370     1.0              1.0  \n",
            "1  0.166776  11.584164     0.0              0.0  \n",
            "2  0.385724  16.240329     1.0              1.0  \n",
            "3  0.854572  15.208247     0.0              1.0  \n",
            "4  2.865463  17.413788     1.0              0.0  \n"
          ]
        }
      ]
    },
    {
      "cell_type": "code",
      "source": [
        "\n",
        "scale_new_data = pickle.load(open('/content/drive/MyDrive/AlgerianForestFire/scaler.pkl', 'rb'))\n",
        "lr_model = pickle.load(open('/content/drive/MyDrive/AlgerianForestFire/lr_fire.pkl', 'rb'))"
      ],
      "metadata": {
        "id": "Fds3w90vQUM7"
      },
      "execution_count": 3,
      "outputs": []
    },
    {
      "cell_type": "code",
      "source": [
        "df_scaled = scale_new_data.transform(df)"
      ],
      "metadata": {
        "id": "5J19K34XQ5ro"
      },
      "execution_count": 4,
      "outputs": []
    },
    {
      "cell_type": "code",
      "source": [
        "y_pred_new = lr_model.predict(df_scaled)\n",
        "y_pred_new"
      ],
      "metadata": {
        "colab": {
          "base_uri": "https://localhost:8080/"
        },
        "id": "tU0qQGqBQ7Kw",
        "outputId": "f9df5063-baab-472b-c145-964f131ba151"
      },
      "execution_count": 5,
      "outputs": [
        {
          "output_type": "execute_result",
          "data": {
            "text/plain": [
              "array([ 0.86535132, -0.58412751, -0.50532091,  0.11151687,  3.07344436])"
            ]
          },
          "metadata": {},
          "execution_count": 5
        }
      ]
    }
  ]
}